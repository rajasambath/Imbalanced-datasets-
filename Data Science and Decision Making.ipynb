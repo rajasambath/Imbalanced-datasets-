{
 "cells": [
  {
   "cell_type": "code",
   "execution_count": null,
   "metadata": {},
   "outputs": [],
   "source": [
    "#"
   ]
  },
  {
   "cell_type": "code",
   "execution_count": null,
   "metadata": {},
   "outputs": [],
   "source": [
    "In this project, we will discuss the cases of imbalanced datasets in machine learning problems. The first step involves choosing three datasets that are balanced. The three data set will be made imbalanced using subsampling techniques (low imbalance, medium imbalance, and high imbalance). 9 data sets will be created using the three datasets. Models will be created using these 9 data sets. The models created were random forest and K means. The models created show that the models created using high balance produced the highest accurate model compared to medium and low balance. "
   ]
  },
  {
   "cell_type": "markdown",
   "metadata": {},
   "source": [
    "# Introduction\n"
   ]
  },
  {
   "cell_type": "markdown",
   "metadata": {},
   "source": [
    "Machine learning is one of the emerging techniques that are being used by almost every sector to create models that can provide insights to businesses. There are several techniques that can be used to create models based on the problems. There are three main types of machine learning techniques. They include supervised, unsupervised, and reinforcement learning (El Naqa & Murphy, 2015; Wang et al. 2016; Jordan & Mitchell, 2015). Classification problems are part of supervised machine learning techniques. Classification problems predict the class label. The class labels are categorical variables. The classification algorithms predict the input data based on the target variable (Kaur, Pannu & Malhi, 2019; Krawczyk, 2016). \n",
    "One of the issues that affect classification problems is the issue of the imbalanced class dataset. Imbalance data is one of the common issues with classification problems. The issue of data imbalance always affects the accuracy of the model (Gu et al. 2008). \n",
    "Data imbalanced refers to the issues where the target has an even distribution of observations. This means that one class label has a very high observation compared to the other class label. Most of the classifications have imbalanced data. For instance, in the scenario of fraud detection or credit default, we can’t find data that has a balanced class. Cases of fraud are usually rare. Likewise, cases of default are always fewer compared to the normal state (Tyagi & Mittal, 2020; Sun, Wong & Kamel, 2009). \n",
    "In this project, we will study the effect of imbalance data. We will collect three balanced data, surrogate the data into three, clean the data and create a model for the same. \n"
   ]
  },
  {
   "cell_type": "code",
   "execution_count": 7,
   "metadata": {},
   "outputs": [],
   "source": [
    "import pandas as pd\n",
    "import numpy as np\n",
    "from numpy import mean\n",
    "from numpy import std\n",
    "from sklearn.preprocessing import LabelEncoder\n",
    "from sklearn.model_selection import cross_val_score\n",
    "from sklearn.model_selection import RepeatedStratifiedKFold\n",
    "from sklearn.ensemble import RandomForestClassifier\n",
    "from sklearn.cluster import KMeans\n",
    "from sklearn.metrics import silhouette_samples, silhouette_score\n",
    "import matplotlib.pyplot as plt\n",
    "import matplotlib.cm as cm\n",
    "import seaborn as sns\n",
    "from sklearn.metrics import classification_report, confusion_matrix\n"
   ]
  },
  {
   "cell_type": "markdown",
   "metadata": {},
   "source": [
    "# Data"
   ]
  },
  {
   "cell_type": "code",
   "execution_count": 33,
   "metadata": {},
   "outputs": [],
   "source": [
    "# load the data\n",
    "forestfires = pd.read_csv(\"forestfires.csv\")\n",
    "wine= pd.read_csv(\"winequality-red.csv\")\n",
    "por=pd.read_csv(\"student-por.csv\", sep=\";\")\n",
    "mat=pd.read_csv(\"student-mat.csv\", sep=\";\")"
   ]
  },
  {
   "cell_type": "code",
   "execution_count": 9,
   "metadata": {},
   "outputs": [
    {
     "data": {
      "text/html": [
       "<div>\n",
       "<style scoped>\n",
       "    .dataframe tbody tr th:only-of-type {\n",
       "        vertical-align: middle;\n",
       "    }\n",
       "\n",
       "    .dataframe tbody tr th {\n",
       "        vertical-align: top;\n",
       "    }\n",
       "\n",
       "    .dataframe thead th {\n",
       "        text-align: right;\n",
       "    }\n",
       "</style>\n",
       "<table border=\"1\" class=\"dataframe\">\n",
       "  <thead>\n",
       "    <tr style=\"text-align: right;\">\n",
       "      <th></th>\n",
       "      <th>school</th>\n",
       "      <th>sex</th>\n",
       "      <th>age</th>\n",
       "      <th>address</th>\n",
       "      <th>famsize</th>\n",
       "      <th>Pstatus</th>\n",
       "      <th>Medu</th>\n",
       "      <th>Fedu</th>\n",
       "      <th>Mjob</th>\n",
       "      <th>Fjob</th>\n",
       "      <th>...</th>\n",
       "      <th>famrel</th>\n",
       "      <th>freetime</th>\n",
       "      <th>goout</th>\n",
       "      <th>Dalc</th>\n",
       "      <th>Walc</th>\n",
       "      <th>health</th>\n",
       "      <th>absences</th>\n",
       "      <th>G1</th>\n",
       "      <th>G2</th>\n",
       "      <th>G3</th>\n",
       "    </tr>\n",
       "  </thead>\n",
       "  <tbody>\n",
       "    <tr>\n",
       "      <th>0</th>\n",
       "      <td>GP</td>\n",
       "      <td>F</td>\n",
       "      <td>18</td>\n",
       "      <td>U</td>\n",
       "      <td>GT3</td>\n",
       "      <td>A</td>\n",
       "      <td>4</td>\n",
       "      <td>4</td>\n",
       "      <td>at_home</td>\n",
       "      <td>teacher</td>\n",
       "      <td>...</td>\n",
       "      <td>4</td>\n",
       "      <td>3</td>\n",
       "      <td>4</td>\n",
       "      <td>1</td>\n",
       "      <td>1</td>\n",
       "      <td>3</td>\n",
       "      <td>4</td>\n",
       "      <td>0</td>\n",
       "      <td>11</td>\n",
       "      <td>11</td>\n",
       "    </tr>\n",
       "    <tr>\n",
       "      <th>1</th>\n",
       "      <td>GP</td>\n",
       "      <td>F</td>\n",
       "      <td>17</td>\n",
       "      <td>U</td>\n",
       "      <td>GT3</td>\n",
       "      <td>T</td>\n",
       "      <td>1</td>\n",
       "      <td>1</td>\n",
       "      <td>at_home</td>\n",
       "      <td>other</td>\n",
       "      <td>...</td>\n",
       "      <td>5</td>\n",
       "      <td>3</td>\n",
       "      <td>3</td>\n",
       "      <td>1</td>\n",
       "      <td>1</td>\n",
       "      <td>3</td>\n",
       "      <td>2</td>\n",
       "      <td>9</td>\n",
       "      <td>11</td>\n",
       "      <td>11</td>\n",
       "    </tr>\n",
       "    <tr>\n",
       "      <th>2</th>\n",
       "      <td>GP</td>\n",
       "      <td>F</td>\n",
       "      <td>15</td>\n",
       "      <td>U</td>\n",
       "      <td>LE3</td>\n",
       "      <td>T</td>\n",
       "      <td>1</td>\n",
       "      <td>1</td>\n",
       "      <td>at_home</td>\n",
       "      <td>other</td>\n",
       "      <td>...</td>\n",
       "      <td>4</td>\n",
       "      <td>3</td>\n",
       "      <td>2</td>\n",
       "      <td>2</td>\n",
       "      <td>3</td>\n",
       "      <td>3</td>\n",
       "      <td>6</td>\n",
       "      <td>12</td>\n",
       "      <td>13</td>\n",
       "      <td>12</td>\n",
       "    </tr>\n",
       "    <tr>\n",
       "      <th>3</th>\n",
       "      <td>GP</td>\n",
       "      <td>F</td>\n",
       "      <td>15</td>\n",
       "      <td>U</td>\n",
       "      <td>GT3</td>\n",
       "      <td>T</td>\n",
       "      <td>4</td>\n",
       "      <td>2</td>\n",
       "      <td>health</td>\n",
       "      <td>services</td>\n",
       "      <td>...</td>\n",
       "      <td>3</td>\n",
       "      <td>2</td>\n",
       "      <td>2</td>\n",
       "      <td>1</td>\n",
       "      <td>1</td>\n",
       "      <td>5</td>\n",
       "      <td>0</td>\n",
       "      <td>14</td>\n",
       "      <td>14</td>\n",
       "      <td>14</td>\n",
       "    </tr>\n",
       "    <tr>\n",
       "      <th>4</th>\n",
       "      <td>GP</td>\n",
       "      <td>F</td>\n",
       "      <td>16</td>\n",
       "      <td>U</td>\n",
       "      <td>GT3</td>\n",
       "      <td>T</td>\n",
       "      <td>3</td>\n",
       "      <td>3</td>\n",
       "      <td>other</td>\n",
       "      <td>other</td>\n",
       "      <td>...</td>\n",
       "      <td>4</td>\n",
       "      <td>3</td>\n",
       "      <td>2</td>\n",
       "      <td>1</td>\n",
       "      <td>2</td>\n",
       "      <td>5</td>\n",
       "      <td>0</td>\n",
       "      <td>11</td>\n",
       "      <td>13</td>\n",
       "      <td>13</td>\n",
       "    </tr>\n",
       "  </tbody>\n",
       "</table>\n",
       "<p>5 rows × 33 columns</p>\n",
       "</div>"
      ],
      "text/plain": [
       "  school sex  age address famsize Pstatus  Medu  Fedu     Mjob      Fjob  ...  \\\n",
       "0     GP   F   18       U     GT3       A     4     4  at_home   teacher  ...   \n",
       "1     GP   F   17       U     GT3       T     1     1  at_home     other  ...   \n",
       "2     GP   F   15       U     LE3       T     1     1  at_home     other  ...   \n",
       "3     GP   F   15       U     GT3       T     4     2   health  services  ...   \n",
       "4     GP   F   16       U     GT3       T     3     3    other     other  ...   \n",
       "\n",
       "  famrel freetime  goout  Dalc  Walc health absences  G1  G2  G3  \n",
       "0      4        3      4     1     1      3        4   0  11  11  \n",
       "1      5        3      3     1     1      3        2   9  11  11  \n",
       "2      4        3      2     2     3      3        6  12  13  12  \n",
       "3      3        2      2     1     1      5        0  14  14  14  \n",
       "4      4        3      2     1     2      5        0  11  13  13  \n",
       "\n",
       "[5 rows x 33 columns]"
      ]
     },
     "execution_count": 9,
     "metadata": {},
     "output_type": "execute_result"
    }
   ],
   "source": [
    "# merge por and mat data\n",
    "student= pd.concat((por, mat), axis=0)\n",
    "student.head()"
   ]
  },
  {
   "cell_type": "code",
   "execution_count": 10,
   "metadata": {},
   "outputs": [
    {
     "name": "stdout",
     "output_type": "stream",
     "text": [
      "(1599, 12) (517, 13) (1044, 33)\n"
     ]
    }
   ],
   "source": [
    "print(wine.shape, forestfires.shape, student.shape)"
   ]
  },
  {
   "cell_type": "markdown",
   "metadata": {},
   "source": [
    "## Wine quality\n"
   ]
  },
  {
   "cell_type": "markdown",
   "metadata": {},
   "source": [
    "The wine quality data set was obtained from the Kaggle website (https://www.kaggle.com/uciml/red-wine-quality-cortez-et-al-2009). The data contains information on both red and white wine which are variants of the Portuguese “Vinho Verde\" wine. The data can be used to solve both classification and regression tasks. The classes of the data are ordered and thus not balanced. However, through the data cleaning process, we obtained balanced data. The data contains 1599 rows and 12 columns. The target variable has been labeled “quality”. It is an ordinal variable that ranges from 3-8. This target variable was divided into classes (0,1). The threshold of dividing the data into the two classes was on average. Thus, the threshold value was 5. The data had no missing values and all the remaining columns were numeric. Thus, there were no further data cleaning techniques were applied. All the remaining variables were treated as independent variables.\n"
   ]
  },
  {
   "cell_type": "code",
   "execution_count": 34,
   "metadata": {},
   "outputs": [
    {
     "name": "stdout",
     "output_type": "stream",
     "text": [
      "<class 'pandas.core.frame.DataFrame'>\n",
      "RangeIndex: 1599 entries, 0 to 1598\n",
      "Data columns (total 12 columns):\n",
      " #   Column                Non-Null Count  Dtype  \n",
      "---  ------                --------------  -----  \n",
      " 0   fixed acidity         1599 non-null   float64\n",
      " 1   volatile acidity      1599 non-null   float64\n",
      " 2   citric acid           1599 non-null   float64\n",
      " 3   residual sugar        1599 non-null   float64\n",
      " 4   chlorides             1599 non-null   float64\n",
      " 5   free sulfur dioxide   1599 non-null   float64\n",
      " 6   total sulfur dioxide  1599 non-null   float64\n",
      " 7   density               1599 non-null   float64\n",
      " 8   pH                    1599 non-null   float64\n",
      " 9   sulphates             1599 non-null   float64\n",
      " 10  alcohol               1599 non-null   float64\n",
      " 11  quality               1599 non-null   int64  \n",
      "dtypes: float64(11), int64(1)\n",
      "memory usage: 150.0 KB\n"
     ]
    }
   ],
   "source": [
    "# Data Cleaning\n",
    "#1. Wine data\n",
    "wine.info()"
   ]
  },
  {
   "cell_type": "code",
   "execution_count": 35,
   "metadata": {},
   "outputs": [
    {
     "data": {
      "text/html": [
       "<div>\n",
       "<style scoped>\n",
       "    .dataframe tbody tr th:only-of-type {\n",
       "        vertical-align: middle;\n",
       "    }\n",
       "\n",
       "    .dataframe tbody tr th {\n",
       "        vertical-align: top;\n",
       "    }\n",
       "\n",
       "    .dataframe thead th {\n",
       "        text-align: right;\n",
       "    }\n",
       "</style>\n",
       "<table border=\"1\" class=\"dataframe\">\n",
       "  <thead>\n",
       "    <tr style=\"text-align: right;\">\n",
       "      <th></th>\n",
       "      <th>fixed acidity</th>\n",
       "      <th>volatile acidity</th>\n",
       "      <th>citric acid</th>\n",
       "      <th>residual sugar</th>\n",
       "      <th>chlorides</th>\n",
       "      <th>free sulfur dioxide</th>\n",
       "      <th>total sulfur dioxide</th>\n",
       "      <th>density</th>\n",
       "      <th>pH</th>\n",
       "      <th>sulphates</th>\n",
       "      <th>alcohol</th>\n",
       "      <th>quality</th>\n",
       "    </tr>\n",
       "  </thead>\n",
       "  <tbody>\n",
       "    <tr>\n",
       "      <th>count</th>\n",
       "      <td>1599.000000</td>\n",
       "      <td>1599.000000</td>\n",
       "      <td>1599.000000</td>\n",
       "      <td>1599.000000</td>\n",
       "      <td>1599.000000</td>\n",
       "      <td>1599.000000</td>\n",
       "      <td>1599.000000</td>\n",
       "      <td>1599.000000</td>\n",
       "      <td>1599.000000</td>\n",
       "      <td>1599.000000</td>\n",
       "      <td>1599.000000</td>\n",
       "      <td>1599.000000</td>\n",
       "    </tr>\n",
       "    <tr>\n",
       "      <th>mean</th>\n",
       "      <td>8.319637</td>\n",
       "      <td>0.527821</td>\n",
       "      <td>0.270976</td>\n",
       "      <td>2.538806</td>\n",
       "      <td>0.087467</td>\n",
       "      <td>15.874922</td>\n",
       "      <td>46.467792</td>\n",
       "      <td>0.996747</td>\n",
       "      <td>3.311113</td>\n",
       "      <td>0.658149</td>\n",
       "      <td>10.422983</td>\n",
       "      <td>5.636023</td>\n",
       "    </tr>\n",
       "    <tr>\n",
       "      <th>std</th>\n",
       "      <td>1.741096</td>\n",
       "      <td>0.179060</td>\n",
       "      <td>0.194801</td>\n",
       "      <td>1.409928</td>\n",
       "      <td>0.047065</td>\n",
       "      <td>10.460157</td>\n",
       "      <td>32.895324</td>\n",
       "      <td>0.001887</td>\n",
       "      <td>0.154386</td>\n",
       "      <td>0.169507</td>\n",
       "      <td>1.065668</td>\n",
       "      <td>0.807569</td>\n",
       "    </tr>\n",
       "    <tr>\n",
       "      <th>min</th>\n",
       "      <td>4.600000</td>\n",
       "      <td>0.120000</td>\n",
       "      <td>0.000000</td>\n",
       "      <td>0.900000</td>\n",
       "      <td>0.012000</td>\n",
       "      <td>1.000000</td>\n",
       "      <td>6.000000</td>\n",
       "      <td>0.990070</td>\n",
       "      <td>2.740000</td>\n",
       "      <td>0.330000</td>\n",
       "      <td>8.400000</td>\n",
       "      <td>3.000000</td>\n",
       "    </tr>\n",
       "    <tr>\n",
       "      <th>25%</th>\n",
       "      <td>7.100000</td>\n",
       "      <td>0.390000</td>\n",
       "      <td>0.090000</td>\n",
       "      <td>1.900000</td>\n",
       "      <td>0.070000</td>\n",
       "      <td>7.000000</td>\n",
       "      <td>22.000000</td>\n",
       "      <td>0.995600</td>\n",
       "      <td>3.210000</td>\n",
       "      <td>0.550000</td>\n",
       "      <td>9.500000</td>\n",
       "      <td>5.000000</td>\n",
       "    </tr>\n",
       "    <tr>\n",
       "      <th>50%</th>\n",
       "      <td>7.900000</td>\n",
       "      <td>0.520000</td>\n",
       "      <td>0.260000</td>\n",
       "      <td>2.200000</td>\n",
       "      <td>0.079000</td>\n",
       "      <td>14.000000</td>\n",
       "      <td>38.000000</td>\n",
       "      <td>0.996750</td>\n",
       "      <td>3.310000</td>\n",
       "      <td>0.620000</td>\n",
       "      <td>10.200000</td>\n",
       "      <td>6.000000</td>\n",
       "    </tr>\n",
       "    <tr>\n",
       "      <th>75%</th>\n",
       "      <td>9.200000</td>\n",
       "      <td>0.640000</td>\n",
       "      <td>0.420000</td>\n",
       "      <td>2.600000</td>\n",
       "      <td>0.090000</td>\n",
       "      <td>21.000000</td>\n",
       "      <td>62.000000</td>\n",
       "      <td>0.997835</td>\n",
       "      <td>3.400000</td>\n",
       "      <td>0.730000</td>\n",
       "      <td>11.100000</td>\n",
       "      <td>6.000000</td>\n",
       "    </tr>\n",
       "    <tr>\n",
       "      <th>max</th>\n",
       "      <td>15.900000</td>\n",
       "      <td>1.580000</td>\n",
       "      <td>1.000000</td>\n",
       "      <td>15.500000</td>\n",
       "      <td>0.611000</td>\n",
       "      <td>72.000000</td>\n",
       "      <td>289.000000</td>\n",
       "      <td>1.003690</td>\n",
       "      <td>4.010000</td>\n",
       "      <td>2.000000</td>\n",
       "      <td>14.900000</td>\n",
       "      <td>8.000000</td>\n",
       "    </tr>\n",
       "  </tbody>\n",
       "</table>\n",
       "</div>"
      ],
      "text/plain": [
       "       fixed acidity  volatile acidity  citric acid  residual sugar  \\\n",
       "count    1599.000000       1599.000000  1599.000000     1599.000000   \n",
       "mean        8.319637          0.527821     0.270976        2.538806   \n",
       "std         1.741096          0.179060     0.194801        1.409928   \n",
       "min         4.600000          0.120000     0.000000        0.900000   \n",
       "25%         7.100000          0.390000     0.090000        1.900000   \n",
       "50%         7.900000          0.520000     0.260000        2.200000   \n",
       "75%         9.200000          0.640000     0.420000        2.600000   \n",
       "max        15.900000          1.580000     1.000000       15.500000   \n",
       "\n",
       "         chlorides  free sulfur dioxide  total sulfur dioxide      density  \\\n",
       "count  1599.000000          1599.000000           1599.000000  1599.000000   \n",
       "mean      0.087467            15.874922             46.467792     0.996747   \n",
       "std       0.047065            10.460157             32.895324     0.001887   \n",
       "min       0.012000             1.000000              6.000000     0.990070   \n",
       "25%       0.070000             7.000000             22.000000     0.995600   \n",
       "50%       0.079000            14.000000             38.000000     0.996750   \n",
       "75%       0.090000            21.000000             62.000000     0.997835   \n",
       "max       0.611000            72.000000            289.000000     1.003690   \n",
       "\n",
       "                pH    sulphates      alcohol      quality  \n",
       "count  1599.000000  1599.000000  1599.000000  1599.000000  \n",
       "mean      3.311113     0.658149    10.422983     5.636023  \n",
       "std       0.154386     0.169507     1.065668     0.807569  \n",
       "min       2.740000     0.330000     8.400000     3.000000  \n",
       "25%       3.210000     0.550000     9.500000     5.000000  \n",
       "50%       3.310000     0.620000    10.200000     6.000000  \n",
       "75%       3.400000     0.730000    11.100000     6.000000  \n",
       "max       4.010000     2.000000    14.900000     8.000000  "
      ]
     },
     "execution_count": 35,
     "metadata": {},
     "output_type": "execute_result"
    }
   ],
   "source": [
    "# conver the quality to category\n",
    "wine.describe()"
   ]
  },
  {
   "cell_type": "code",
   "execution_count": 36,
   "metadata": {},
   "outputs": [
    {
     "data": {
      "text/plain": [
       "1    855\n",
       "0    744\n",
       "Name: quality, dtype: int64"
      ]
     },
     "execution_count": 36,
     "metadata": {},
     "output_type": "execute_result"
    }
   ],
   "source": [
    "wine['quality'].values[wine['quality'].values <= 5] = 0\n",
    "wine['quality'].values[wine['quality'].values > 5] = 1\n",
    "\n",
    "wine.quality.value_counts()\n",
    "\n"
   ]
  },
  {
   "cell_type": "code",
   "execution_count": 37,
   "metadata": {},
   "outputs": [],
   "source": [
    "# create low balance\n",
    "high= wine[wine.quality==1]\n",
    "low= wine[wine.quality==0]"
   ]
  },
  {
   "cell_type": "code",
   "execution_count": 38,
   "metadata": {},
   "outputs": [
    {
     "name": "stdout",
     "output_type": "stream",
     "text": [
      "855 744\n"
     ]
    }
   ],
   "source": [
    "count_class_0, count_class_1 = wine.quality.value_counts()\n",
    "print(count_class_0, count_class_1)"
   ]
  },
  {
   "cell_type": "code",
   "execution_count": 39,
   "metadata": {},
   "outputs": [
    {
     "name": "stdout",
     "output_type": "stream",
     "text": [
      "1    855\n",
      "0    560\n",
      "Name: quality, dtype: int64\n",
      "1    855\n",
      "0    400\n",
      "Name: quality, dtype: int64\n",
      "1    855\n",
      "0    160\n",
      "Name: quality, dtype: int64\n"
     ]
    }
   ],
   "source": [
    "df_class_0_under = low.sample(round(wine.shape[0]*0.35))\n",
    "wine_low = pd.concat([df_class_0_under, high], axis=0)\n",
    "df_class_0_medium = low.sample(round(wine.shape[0]*0.25))\n",
    "wine_medium = pd.concat([df_class_0_medium, high], axis=0)\n",
    "df_class_0_high = low.sample(round(wine.shape[0]*0.1))\n",
    "wine_high = pd.concat([df_class_0_high, high], axis=0)\n",
    "print(wine_low.quality.value_counts())\n",
    "print(wine_medium.quality.value_counts())\n",
    "print(wine_high.quality.value_counts())"
   ]
  },
  {
   "cell_type": "markdown",
   "metadata": {},
   "source": [
    "## Forest Fires\n"
   ]
  },
  {
   "cell_type": "markdown",
   "metadata": {},
   "source": [
    "The forest fire data set was collected from Kaggle website (https://www.kaggle.com/sumitm004/forest-fire-area). The data contains 517 fires from Montesinho natural park in Portugal. The data contains information about the weekday, the month, the coordinate, and the burn area of when the incident occurred. The data contains 517 rows and 13 columns. The target variable is the area. Out of the 13 variables, 2 are object variables. This data can be used to handle classification, regression, and clustering problems. The data was cleaned by converting the object variables to numeric variables. This is because machine learning models don’t accept object variables. The target variable is a numeric variable. It was converted to a binary variable. The final data obtained was balanced. The X and Y-axis spatial coordinates seemed not be important in the model and thus they were dropped from the data.\n"
   ]
  },
  {
   "cell_type": "code",
   "execution_count": 40,
   "metadata": {},
   "outputs": [
    {
     "name": "stdout",
     "output_type": "stream",
     "text": [
      "<class 'pandas.core.frame.DataFrame'>\n",
      "RangeIndex: 517 entries, 0 to 516\n",
      "Data columns (total 13 columns):\n",
      " #   Column  Non-Null Count  Dtype  \n",
      "---  ------  --------------  -----  \n",
      " 0   X       517 non-null    int64  \n",
      " 1   Y       517 non-null    int64  \n",
      " 2   month   517 non-null    object \n",
      " 3   day     517 non-null    object \n",
      " 4   FFMC    517 non-null    float64\n",
      " 5   DMC     517 non-null    float64\n",
      " 6   DC      517 non-null    float64\n",
      " 7   ISI     517 non-null    float64\n",
      " 8   temp    517 non-null    float64\n",
      " 9   RH      517 non-null    int64  \n",
      " 10  wind    517 non-null    float64\n",
      " 11  rain    517 non-null    float64\n",
      " 12  area    517 non-null    float64\n",
      "dtypes: float64(8), int64(3), object(2)\n",
      "memory usage: 52.6+ KB\n"
     ]
    }
   ],
   "source": [
    "# Forest fire clean up\n",
    "forestfires.info()"
   ]
  },
  {
   "cell_type": "code",
   "execution_count": 41,
   "metadata": {},
   "outputs": [
    {
     "data": {
      "text/html": [
       "<div>\n",
       "<style scoped>\n",
       "    .dataframe tbody tr th:only-of-type {\n",
       "        vertical-align: middle;\n",
       "    }\n",
       "\n",
       "    .dataframe tbody tr th {\n",
       "        vertical-align: top;\n",
       "    }\n",
       "\n",
       "    .dataframe thead th {\n",
       "        text-align: right;\n",
       "    }\n",
       "</style>\n",
       "<table border=\"1\" class=\"dataframe\">\n",
       "  <thead>\n",
       "    <tr style=\"text-align: right;\">\n",
       "      <th></th>\n",
       "      <th>X</th>\n",
       "      <th>Y</th>\n",
       "      <th>month</th>\n",
       "      <th>day</th>\n",
       "      <th>FFMC</th>\n",
       "      <th>DMC</th>\n",
       "      <th>DC</th>\n",
       "      <th>ISI</th>\n",
       "      <th>temp</th>\n",
       "      <th>RH</th>\n",
       "      <th>wind</th>\n",
       "      <th>rain</th>\n",
       "      <th>area</th>\n",
       "    </tr>\n",
       "  </thead>\n",
       "  <tbody>\n",
       "    <tr>\n",
       "      <th>0</th>\n",
       "      <td>7</td>\n",
       "      <td>5</td>\n",
       "      <td>mar</td>\n",
       "      <td>fri</td>\n",
       "      <td>86.2</td>\n",
       "      <td>26.2</td>\n",
       "      <td>94.3</td>\n",
       "      <td>5.1</td>\n",
       "      <td>8.2</td>\n",
       "      <td>51</td>\n",
       "      <td>6.7</td>\n",
       "      <td>0.0</td>\n",
       "      <td>0.0</td>\n",
       "    </tr>\n",
       "    <tr>\n",
       "      <th>1</th>\n",
       "      <td>7</td>\n",
       "      <td>4</td>\n",
       "      <td>oct</td>\n",
       "      <td>tue</td>\n",
       "      <td>90.6</td>\n",
       "      <td>35.4</td>\n",
       "      <td>669.1</td>\n",
       "      <td>6.7</td>\n",
       "      <td>18.0</td>\n",
       "      <td>33</td>\n",
       "      <td>0.9</td>\n",
       "      <td>0.0</td>\n",
       "      <td>0.0</td>\n",
       "    </tr>\n",
       "    <tr>\n",
       "      <th>2</th>\n",
       "      <td>7</td>\n",
       "      <td>4</td>\n",
       "      <td>oct</td>\n",
       "      <td>sat</td>\n",
       "      <td>90.6</td>\n",
       "      <td>43.7</td>\n",
       "      <td>686.9</td>\n",
       "      <td>6.7</td>\n",
       "      <td>14.6</td>\n",
       "      <td>33</td>\n",
       "      <td>1.3</td>\n",
       "      <td>0.0</td>\n",
       "      <td>0.0</td>\n",
       "    </tr>\n",
       "    <tr>\n",
       "      <th>3</th>\n",
       "      <td>8</td>\n",
       "      <td>6</td>\n",
       "      <td>mar</td>\n",
       "      <td>fri</td>\n",
       "      <td>91.7</td>\n",
       "      <td>33.3</td>\n",
       "      <td>77.5</td>\n",
       "      <td>9.0</td>\n",
       "      <td>8.3</td>\n",
       "      <td>97</td>\n",
       "      <td>4.0</td>\n",
       "      <td>0.2</td>\n",
       "      <td>0.0</td>\n",
       "    </tr>\n",
       "    <tr>\n",
       "      <th>4</th>\n",
       "      <td>8</td>\n",
       "      <td>6</td>\n",
       "      <td>mar</td>\n",
       "      <td>sun</td>\n",
       "      <td>89.3</td>\n",
       "      <td>51.3</td>\n",
       "      <td>102.2</td>\n",
       "      <td>9.6</td>\n",
       "      <td>11.4</td>\n",
       "      <td>99</td>\n",
       "      <td>1.8</td>\n",
       "      <td>0.0</td>\n",
       "      <td>0.0</td>\n",
       "    </tr>\n",
       "  </tbody>\n",
       "</table>\n",
       "</div>"
      ],
      "text/plain": [
       "   X  Y month  day  FFMC   DMC     DC  ISI  temp  RH  wind  rain  area\n",
       "0  7  5   mar  fri  86.2  26.2   94.3  5.1   8.2  51   6.7   0.0   0.0\n",
       "1  7  4   oct  tue  90.6  35.4  669.1  6.7  18.0  33   0.9   0.0   0.0\n",
       "2  7  4   oct  sat  90.6  43.7  686.9  6.7  14.6  33   1.3   0.0   0.0\n",
       "3  8  6   mar  fri  91.7  33.3   77.5  9.0   8.3  97   4.0   0.2   0.0\n",
       "4  8  6   mar  sun  89.3  51.3  102.2  9.6  11.4  99   1.8   0.0   0.0"
      ]
     },
     "execution_count": 41,
     "metadata": {},
     "output_type": "execute_result"
    }
   ],
   "source": [
    "forestfires.head()"
   ]
  },
  {
   "cell_type": "code",
   "execution_count": 42,
   "metadata": {},
   "outputs": [
    {
     "name": "stdout",
     "output_type": "stream",
     "text": [
      "<class 'pandas.core.frame.DataFrame'>\n",
      "RangeIndex: 517 entries, 0 to 516\n",
      "Data columns (total 13 columns):\n",
      " #   Column  Non-Null Count  Dtype  \n",
      "---  ------  --------------  -----  \n",
      " 0   X       517 non-null    int64  \n",
      " 1   Y       517 non-null    int64  \n",
      " 2   month   517 non-null    int64  \n",
      " 3   day     517 non-null    int64  \n",
      " 4   FFMC    517 non-null    float64\n",
      " 5   DMC     517 non-null    float64\n",
      " 6   DC      517 non-null    float64\n",
      " 7   ISI     517 non-null    float64\n",
      " 8   temp    517 non-null    float64\n",
      " 9   RH      517 non-null    int64  \n",
      " 10  wind    517 non-null    float64\n",
      " 11  rain    517 non-null    float64\n",
      " 12  area    517 non-null    float64\n",
      "dtypes: float64(8), int64(5)\n",
      "memory usage: 52.6 KB\n"
     ]
    }
   ],
   "source": [
    "# convert the object into numeric\n",
    "forestfires['month']=pd.to_datetime(forestfires.month, format='%b').dt.month\n",
    "days = {\"mon\":0,\"tue\":1,\"wed\":2,\"thu\":3,\"fri\":4,\"sat\":5,\"sun\":6}\n",
    "forestfires['day'] = forestfires['day'].apply(lambda x: days[x])\n",
    "forestfires.info()"
   ]
  },
  {
   "cell_type": "code",
   "execution_count": 43,
   "metadata": {},
   "outputs": [
    {
     "data": {
      "text/plain": [
       "0"
      ]
     },
     "execution_count": 43,
     "metadata": {},
     "output_type": "execute_result"
    }
   ],
   "source": [
    "# check for missing value\n",
    "forestfires.isna().sum().sum()"
   ]
  },
  {
   "cell_type": "code",
   "execution_count": 46,
   "metadata": {},
   "outputs": [],
   "source": [
    "# drop X and Y variable\n",
    "forestfires.drop(['X','Y'], axis=1, inplace=True)"
   ]
  },
  {
   "cell_type": "code",
   "execution_count": 47,
   "metadata": {},
   "outputs": [
    {
     "data": {
      "text/plain": [
       "0.0    274\n",
       "1.0    243\n",
       "Name: area, dtype: int64"
      ]
     },
     "execution_count": 47,
     "metadata": {},
     "output_type": "execute_result"
    }
   ],
   "source": [
    "forestfires['area'].values[forestfires['area'].values < 1] = 0\n",
    "forestfires['area'].values[forestfires['area'].values >= 1] = 1\n",
    "\n",
    "forestfires.area.value_counts()\n"
   ]
  },
  {
   "cell_type": "code",
   "execution_count": 48,
   "metadata": {},
   "outputs": [
    {
     "name": "stdout",
     "output_type": "stream",
     "text": [
      "1.0    243\n",
      "0.0    181\n",
      "Name: area, dtype: int64\n",
      "1.0    243\n",
      "0.0    129\n",
      "Name: area, dtype: int64\n",
      "1.0    243\n",
      "0.0     52\n",
      "Name: area, dtype: int64\n"
     ]
    }
   ],
   "source": [
    "# create the subsample\n",
    "high= forestfires[forestfires.area==1]\n",
    "low= forestfires[forestfires.area==0]\n",
    "count_class_0, count_class_1 = forestfires.area.value_counts()\n",
    "df_class_0_under = low.sample(round(forestfires.shape[0]*0.35))\n",
    "forest_low = pd.concat([df_class_0_under, high], axis=0)\n",
    "df_class_0_medium = low.sample(round(forestfires.shape[0]*0.25))\n",
    "forest_medium = pd.concat([df_class_0_medium, high], axis=0)\n",
    "df_class_0_high = low.sample(round(forestfires.shape[0]*0.1))\n",
    "forest_high = pd.concat([df_class_0_high, high], axis=0)\n",
    "print(forest_low.area.value_counts())\n",
    "print(forest_medium.area.value_counts())\n",
    "print(forest_high.area.value_counts())\n"
   ]
  },
  {
   "cell_type": "markdown",
   "metadata": {},
   "source": [
    "## Student performance\n"
   ]
  },
  {
   "cell_type": "markdown",
   "metadata": {},
   "source": [
    "This data was obtained UCI respiratory (https://archive.ics.uci.edu/ml/datasets/student+performance). The data is about the secondary student performance in two Portuguese schools. The data gives information on the grades, demographics, social and school-related features. It was initially collected using a questionnaire. The data can be used to solve both regression and classification problems. The target variable is labeled G3 which stands for the final grade. The data contains 649 rows and 33 variables. Out of the 33 variables, 17 were object variables. There were two data set given on the website for the two schools. The two data wer concatenated into one data. These variables were converted to numeric variables. The target variable was converted to binary. The threshold used to divide the variables into binary was 12. The final data was balanced data. \n",
    "\n"
   ]
  },
  {
   "cell_type": "code",
   "execution_count": 49,
   "metadata": {},
   "outputs": [
    {
     "name": "stdout",
     "output_type": "stream",
     "text": [
      "<class 'pandas.core.frame.DataFrame'>\n",
      "Int64Index: 1044 entries, 0 to 394\n",
      "Data columns (total 33 columns):\n",
      " #   Column      Non-Null Count  Dtype \n",
      "---  ------      --------------  ----- \n",
      " 0   school      1044 non-null   object\n",
      " 1   sex         1044 non-null   object\n",
      " 2   age         1044 non-null   int64 \n",
      " 3   address     1044 non-null   object\n",
      " 4   famsize     1044 non-null   object\n",
      " 5   Pstatus     1044 non-null   object\n",
      " 6   Medu        1044 non-null   int64 \n",
      " 7   Fedu        1044 non-null   int64 \n",
      " 8   Mjob        1044 non-null   object\n",
      " 9   Fjob        1044 non-null   object\n",
      " 10  reason      1044 non-null   object\n",
      " 11  guardian    1044 non-null   object\n",
      " 12  traveltime  1044 non-null   int64 \n",
      " 13  studytime   1044 non-null   int64 \n",
      " 14  failures    1044 non-null   int64 \n",
      " 15  schoolsup   1044 non-null   object\n",
      " 16  famsup      1044 non-null   object\n",
      " 17  paid        1044 non-null   object\n",
      " 18  activities  1044 non-null   object\n",
      " 19  nursery     1044 non-null   object\n",
      " 20  higher      1044 non-null   object\n",
      " 21  internet    1044 non-null   object\n",
      " 22  romantic    1044 non-null   object\n",
      " 23  famrel      1044 non-null   int64 \n",
      " 24  freetime    1044 non-null   int64 \n",
      " 25  goout       1044 non-null   int64 \n",
      " 26  Dalc        1044 non-null   int64 \n",
      " 27  Walc        1044 non-null   int64 \n",
      " 28  health      1044 non-null   int64 \n",
      " 29  absences    1044 non-null   int64 \n",
      " 30  G1          1044 non-null   int64 \n",
      " 31  G2          1044 non-null   int64 \n",
      " 32  G3          1044 non-null   int64 \n",
      "dtypes: int64(16), object(17)\n",
      "memory usage: 277.3+ KB\n"
     ]
    }
   ],
   "source": [
    "# Student data\n",
    "student.info()"
   ]
  },
  {
   "cell_type": "code",
   "execution_count": 50,
   "metadata": {},
   "outputs": [
    {
     "data": {
      "text/plain": [
       "Index(['school', 'sex', 'address', 'famsize', 'Pstatus', 'Mjob', 'Fjob',\n",
       "       'reason', 'guardian', 'schoolsup', 'famsup', 'paid', 'activities',\n",
       "       'nursery', 'higher', 'internet', 'romantic'],\n",
       "      dtype='object')"
      ]
     },
     "execution_count": 50,
     "metadata": {},
     "output_type": "execute_result"
    }
   ],
   "source": [
    "numerics = ['int16', 'int32', 'int64', 'float16', 'float32', 'float64']\n",
    "# subset columns that are non-numeric\n",
    "non_numeric = student.select_dtypes(exclude=numerics)\n",
    "non_numeric.head()\n",
    "# get the columns names\n",
    "cat= non_numeric.columns\n",
    "cat"
   ]
  },
  {
   "cell_type": "code",
   "execution_count": 51,
   "metadata": {},
   "outputs": [
    {
     "name": "stdout",
     "output_type": "stream",
     "text": [
      "<class 'pandas.core.frame.DataFrame'>\n",
      "Int64Index: 1044 entries, 0 to 394\n",
      "Data columns (total 33 columns):\n",
      " #   Column      Non-Null Count  Dtype\n",
      "---  ------      --------------  -----\n",
      " 0   school      1044 non-null   int32\n",
      " 1   sex         1044 non-null   int32\n",
      " 2   age         1044 non-null   int64\n",
      " 3   address     1044 non-null   int32\n",
      " 4   famsize     1044 non-null   int32\n",
      " 5   Pstatus     1044 non-null   int32\n",
      " 6   Medu        1044 non-null   int64\n",
      " 7   Fedu        1044 non-null   int64\n",
      " 8   Mjob        1044 non-null   int32\n",
      " 9   Fjob        1044 non-null   int32\n",
      " 10  reason      1044 non-null   int32\n",
      " 11  guardian    1044 non-null   int32\n",
      " 12  traveltime  1044 non-null   int64\n",
      " 13  studytime   1044 non-null   int64\n",
      " 14  failures    1044 non-null   int64\n",
      " 15  schoolsup   1044 non-null   int32\n",
      " 16  famsup      1044 non-null   int32\n",
      " 17  paid        1044 non-null   int32\n",
      " 18  activities  1044 non-null   int32\n",
      " 19  nursery     1044 non-null   int32\n",
      " 20  higher      1044 non-null   int32\n",
      " 21  internet    1044 non-null   int32\n",
      " 22  romantic    1044 non-null   int32\n",
      " 23  famrel      1044 non-null   int64\n",
      " 24  freetime    1044 non-null   int64\n",
      " 25  goout       1044 non-null   int64\n",
      " 26  Dalc        1044 non-null   int64\n",
      " 27  Walc        1044 non-null   int64\n",
      " 28  health      1044 non-null   int64\n",
      " 29  absences    1044 non-null   int64\n",
      " 30  G1          1044 non-null   int64\n",
      " 31  G2          1044 non-null   int64\n",
      " 32  G3          1044 non-null   int64\n",
      "dtypes: int32(17), int64(16)\n",
      "memory usage: 208.0 KB\n"
     ]
    }
   ],
   "source": [
    "# conver to numeric\n",
    "le = LabelEncoder()\n",
    "for i in cat:\n",
    "     student[i] = le.fit_transform(student[i])\n",
    "student.info()"
   ]
  },
  {
   "cell_type": "code",
   "execution_count": 52,
   "metadata": {},
   "outputs": [
    {
     "data": {
      "text/plain": [
       "0"
      ]
     },
     "execution_count": 52,
     "metadata": {},
     "output_type": "execute_result"
    }
   ],
   "source": [
    "# check for presence of missing values\n",
    "student.isna().sum().sum()"
   ]
  },
  {
   "cell_type": "code",
   "execution_count": null,
   "metadata": {},
   "outputs": [],
   "source": []
  },
  {
   "cell_type": "code",
   "execution_count": 53,
   "metadata": {},
   "outputs": [
    {
     "data": {
      "text/plain": [
       "0    534\n",
       "1    510\n",
       "Name: G3, dtype: int64"
      ]
     },
     "execution_count": 53,
     "metadata": {},
     "output_type": "execute_result"
    }
   ],
   "source": [
    "#Convert G3 to category\n",
    "student['G3'].values[student['G3'].values <12] = 0\n",
    "student['G3'].values[student['G3'].values >= 12] = 1\n",
    "\n",
    "student.G3.value_counts()\n",
    "\n"
   ]
  },
  {
   "cell_type": "markdown",
   "metadata": {},
   "source": [
    "## Methodology"
   ]
  },
  {
   "cell_type": "markdown",
   "metadata": {},
   "source": [
    "\n",
    "Based on the tasks given, we were supposed to solve 6 tasks. The first task involved subsampling the three data into three each. The subsampling techniques are aimed at making the data imbalance. One of the classes will be reduced to make the data imbalanced. The subsampling will be categorized into three: Low imbalance where one of the classes will carry 65 % of the sample size, medium imbalance where one of the classes will carry 75 % of the sample size, and lastly, the high imbalance which one of the samples will carry 90 % of the sample size. We will, therefore, have 9 subsampled data sets. These are the data sets that will be used to carry out the analysis.\n",
    "The second task involved performing stratified cross-validation on each of the datasets and their surrogates and training a random forest. The accuracy metric was used to validate the model. The third task involved creating 10 stratified folds for the data and creating the same model. To solve this, we created a function to perform cross-validation and random forest and also a function to perform cross-validation together with the cross-validation and random forest. This function will be passed through all 9 data sets. The dependent and independent variables for the 9 datasets were determined. The model was validated using an accuracy score. The fourth part involved creating Kmeans and determining the best clusters using Elbow and Silhouette method. The best cluster was used to create the K-means model. Later, the random forest was modeled using the clusters. A random forest model was also created on the clusters cross-validation. The performance of the final model and the previous model was compared using a bar chart. \n",
    "\n",
    "\n",
    "\n",
    "\n",
    "\n"
   ]
  },
  {
   "cell_type": "code",
   "execution_count": 54,
   "metadata": {},
   "outputs": [
    {
     "name": "stdout",
     "output_type": "stream",
     "text": [
      "1    510\n",
      "0    365\n",
      "Name: G3, dtype: int64\n",
      "1    510\n",
      "0    261\n",
      "Name: G3, dtype: int64\n",
      "1    510\n",
      "0    104\n",
      "Name: G3, dtype: int64\n"
     ]
    }
   ],
   "source": [
    "# create a subsample\n",
    "# create the subsample\n",
    "high= student[student.G3==1]\n",
    "low= student[student.G3==0]\n",
    "count_class_0, count_class_1 = student.G3.value_counts()\n",
    "df_class_0_under = low.sample(round(student.shape[0]*0.35))\n",
    "student_low = pd.concat([df_class_0_under, high], axis=0)\n",
    "df_class_0_medium = low.sample(round(student.shape[0]*0.25))\n",
    "student_medium = pd.concat([df_class_0_medium, high], axis=0)\n",
    "df_class_0_high = low.sample(round(student.shape[0]*0.1))\n",
    "student_high = pd.concat([df_class_0_high, high], axis=0)\n",
    "print(student_low.G3.value_counts())\n",
    "print(student_medium.G3.value_counts())\n",
    "print(student_high.G3.value_counts())\n"
   ]
  },
  {
   "cell_type": "markdown",
   "metadata": {},
   "source": [
    "# TASK 2"
   ]
  },
  {
   "cell_type": "code",
   "execution_count": 55,
   "metadata": {},
   "outputs": [],
   "source": [
    "# create y and X variables for the 9 data\n",
    "# Wine\n",
    "y_wine_low= wine_low.quality\n",
    "X_wine_low= wine_low.drop(\"quality\", axis=1)\n",
    "y_wine_medium= wine_medium.quality\n",
    "X_wine_medium= wine_medium.drop(\"quality\", axis=1)\n",
    "y_wine_high= wine_high.quality\n",
    "X_wine_high= wine_high.drop(\"quality\", axis=1)\n",
    "#wine_medium\n",
    "# forest fire\n",
    "y_forest_low= forest_low.area\n",
    "X_forest_low= forest_low.drop(\"area\", axis=1)\n",
    "y_forest_medium= forest_medium.area\n",
    "X_forest_medium= forest_medium.drop(\"area\", axis=1)\n",
    "y_forest_high= forest_high.area\n",
    "X_forest_high= forest_high.drop(\"area\", axis=1)\n",
    "# student\n",
    "y_student_low= student_low.G3\n",
    "X_student_low= student_low.drop(\"G3\", axis=1)\n",
    "y_student_medium= student_medium.G3\n",
    "X_student_medium= student_medium.drop(\"G3\", axis=1)\n",
    "y_student_high= student_high.G3\n",
    "X_student_high= student_high.drop(\"G3\", axis=1)\n",
    "\n"
   ]
  },
  {
   "cell_type": "code",
   "execution_count": 73,
   "metadata": {},
   "outputs": [
    {
     "data": {
      "text/plain": [
       "array([0.83802817, 0.78873239, 0.82394366, 0.8028169 , 0.80985915,\n",
       "       0.82978723, 0.80141844, 0.82269504, 0.82269504, 0.85815603,\n",
       "       0.8028169 , 0.78169014, 0.81690141, 0.84507042, 0.83802817,\n",
       "       0.81560284, 0.78014184, 0.87234043, 0.79432624, 0.77304965,\n",
       "       0.81690141, 0.80985915, 0.83802817, 0.83802817, 0.83098592,\n",
       "       0.82269504, 0.80141844, 0.76595745, 0.80141844, 0.85815603])"
      ]
     },
     "execution_count": 73,
     "metadata": {},
     "output_type": "execute_result"
    }
   ],
   "source": [
    "n_scores"
   ]
  },
  {
   "cell_type": "code",
   "execution_count": 72,
   "metadata": {},
   "outputs": [
    {
     "name": "stdout",
     "output_type": "stream",
     "text": [
      "Accuracy: 0.817 (0.025)\n",
      "              precision    recall  f1-score   support\n",
      "\n",
      "           0       1.00      1.00      1.00       560\n",
      "           1       1.00      1.00      1.00       855\n",
      "\n",
      "    accuracy                           1.00      1415\n",
      "   macro avg       1.00      1.00      1.00      1415\n",
      "weighted avg       1.00      1.00      1.00      1415\n",
      "\n"
     ]
    },
    {
     "data": {
      "image/png": "[encoded data removed]",
      "text/plain": [
       "<Figure size 432x288 with 2 Axes>"
      ]
     },
     "metadata": {
      "needs_background": "light"
     },
     "output_type": "display_data"
    }
   ],
   "source": [
    "model = RandomForestClassifier()\n",
    "# evaluate the model\n",
    "cv = RepeatedStratifiedKFold(n_splits=10, n_repeats=3, random_state=1)\n",
    "n_scores = cross_val_score(model, X_wine_low, y_wine_low, scoring='accuracy', cv=cv, n_jobs=-1, error_score='raise')\n",
    "# report performance\n",
    "print('Accuracy: %.3f (%.3f)' % (mean(n_scores), std(n_scores)))\n",
    "model.fit(X_wine_low,y_wine_low)\n",
    "pred= model.predict(X_wine_low)\n",
    "cm = confusion_matrix(y_wine_low, pred)\n",
    "sns.heatmap(cm, annot=True, cmap=\"YlGnBu\")\n",
    "plt.ylabel('actual')\n",
    "plt.xlabel('prediction')\n",
    "\n",
    "print(classification_report(y_wine_low, pred))\n",
    "#X_wine_low,y_wine_low"
   ]
  },
  {
   "cell_type": "code",
   "execution_count": 74,
   "metadata": {},
   "outputs": [],
   "source": [
    "def Accuracy(X,y):\n",
    "    model=RandomForestClassifier()\n",
    "    n_scores = cross_val_score(model, X, y, scoring='accuracy', n_jobs=-1, error_score='raise')\n",
    "    print('Accuracy: %.3f (%.3f)' % (mean(n_scores), std(n_scores)))\n",
    "    \n",
    "    "
   ]
  },
  {
   "cell_type": "code",
   "execution_count": 75,
   "metadata": {},
   "outputs": [
    {
     "name": "stdout",
     "output_type": "stream",
     "text": [
      "Accuracy: 0.420 (0.068)\n",
      "Accuracy: 0.519 (0.052)\n",
      "Accuracy: 0.756 (0.041)\n"
     ]
    }
   ],
   "source": [
    "Accuracy(X_forest_low,y_forest_low)\n",
    "Accuracy(X_forest_medium,y_forest_medium)\n",
    "Accuracy(X_forest_high,y_forest_high)"
   ]
  },
  {
   "cell_type": "code",
   "execution_count": 76,
   "metadata": {},
   "outputs": [
    {
     "name": "stdout",
     "output_type": "stream",
     "text": [
      "Accuracy: 0.751 (0.061)\n",
      "Accuracy: 0.761 (0.048)\n",
      "Accuracy: 0.830 (0.044)\n"
     ]
    }
   ],
   "source": [
    "# Wine quality\n",
    "Accuracy(X_wine_low,y_wine_low)\n",
    "Accuracy(X_wine_medium,y_wine_medium)\n",
    "Accuracy(X_wine_high,y_wine_high)"
   ]
  },
  {
   "cell_type": "code",
   "execution_count": 77,
   "metadata": {},
   "outputs": [
    {
     "name": "stdout",
     "output_type": "stream",
     "text": [
      "Accuracy: 0.929 (0.015)\n",
      "Accuracy: 0.904 (0.023)\n",
      "Accuracy: 0.946 (0.017)\n"
     ]
    }
   ],
   "source": [
    "# Student\n",
    "Accuracy(X_student_low,y_student_low)\n",
    "Accuracy(X_student_medium,y_student_medium)\n",
    "Accuracy(X_student_high,y_student_high)"
   ]
  },
  {
   "cell_type": "markdown",
   "metadata": {},
   "source": [
    "# TASK 3"
   ]
  },
  {
   "cell_type": "code",
   "execution_count": 78,
   "metadata": {},
   "outputs": [],
   "source": [
    "def Accuracy(X,y):\n",
    "    model=RandomForestClassifier()\n",
    "    cv = RepeatedStratifiedKFold(n_splits=10, n_repeats=3, random_state=1)\n",
    "    n_scores = cross_val_score(model, X, y, scoring='accuracy', cv=cv, n_jobs=-1, error_score='raise')\n",
    "    print('Accuracy: %.3f (%.3f)' % (mean(n_scores), std(n_scores)))\n",
    "    "
   ]
  },
  {
   "cell_type": "code",
   "execution_count": 79,
   "metadata": {},
   "outputs": [
    {
     "name": "stdout",
     "output_type": "stream",
     "text": [
      "Accuracy: 0.538 (0.076)\n",
      "Accuracy: 0.606 (0.077)\n",
      "Accuracy: 0.788 (0.046)\n"
     ]
    }
   ],
   "source": [
    "Accuracy(X_forest_low,y_forest_low)\n",
    "Accuracy(X_forest_medium,y_forest_medium)\n",
    "Accuracy(X_forest_high,y_forest_high)"
   ]
  },
  {
   "cell_type": "code",
   "execution_count": 99,
   "metadata": {},
   "outputs": [
    {
     "name": "stdout",
     "output_type": "stream",
     "text": [
      "Accuracy: 0.816 (0.025)\n",
      "Accuracy: 0.827 (0.033)\n",
      "Accuracy: 0.874 (0.021)\n"
     ]
    }
   ],
   "source": [
    "# Wine quality\n",
    "Accuracy(X_wine_low,y_wine_low)\n",
    "Accuracy(X_wine_medium,y_wine_medium)\n",
    "Accuracy(X_wine_high,y_wine_high)"
   ]
  },
  {
   "cell_type": "code",
   "execution_count": 100,
   "metadata": {},
   "outputs": [
    {
     "name": "stdout",
     "output_type": "stream",
     "text": [
      "Accuracy: 0.924 (0.025)\n",
      "Accuracy: 0.922 (0.026)\n",
      "Accuracy: 0.960 (0.025)\n"
     ]
    }
   ],
   "source": [
    "# Student\n",
    "Accuracy(X_student_low,y_student_low)\n",
    "Accuracy(X_student_medium,y_student_medium)\n",
    "Accuracy(X_student_high,y_student_high)"
   ]
  },
  {
   "cell_type": "markdown",
   "metadata": {},
   "source": [
    "# TASK 4"
   ]
  },
  {
   "cell_type": "code",
   "execution_count": 125,
   "metadata": {},
   "outputs": [],
   "source": [
    "Xwine = wine.drop(\"quality\", axis=1)\n",
    "Xstudent= student.drop(\"G3\", axis=1)\n",
    "Xforestfires= forestfires.drop(\"area\", axis=1)\n",
    "def clusters(X):\n",
    "    score = []\n",
    "\n",
    "    for i in range(1,11):\n",
    "        kmeans = KMeans(n_clusters = i, init=\"k-means++\", random_state=10)\n",
    "        kmeans.fit(X)\n",
    "        score.append(kmeans.inertia_)\n",
    "    plt.plot(range(1,11), score)\n",
    "    plt.title('The Elbow Method')\n",
    "    plt.xlabel('no of clusters')\n",
    "    plt.ylabel('wcss')\n",
    "    plt.show()\n",
    "    for i in range(2,11):\n",
    "        clusterer = KMeans(n_clusters=i, random_state=10)\n",
    "        cluster_labels = clusterer.fit_predict(X)\n",
    "\n",
    "    # The silhouette_score gives the average value for all the samples.\n",
    "    # This gives a perspective into the density and separation of the formed\n",
    "    # clusters\n",
    "        silhouette_avg = silhouette_score(X, cluster_labels)\n",
    "        print(\"For n_clusters =\", i,\n",
    "              \"The average silhouette_score is :\", silhouette_avg)"
   ]
  },
  {
   "cell_type": "code",
   "execution_count": 120,
   "metadata": {},
   "outputs": [
    {
     "data": {
      "image/png": "[encoded data removed]",
      "text/plain": [
       "<Figure size 432x288 with 1 Axes>"
      ]
     },
     "metadata": {
      "needs_background": "light"
     },
     "output_type": "display_data"
    },
    {
     "name": "stdout",
     "output_type": "stream",
     "text": [
      "For n_clusters = 2 The average silhouette_score is : 0.6034220347331241\n",
      "For n_clusters = 3 The average silhouette_score is : 0.5197446557038226\n",
      "For n_clusters = 4 The average silhouette_score is : 0.48545959739918065\n",
      "For n_clusters = 5 The average silhouette_score is : 0.44642187844374576\n",
      "For n_clusters = 6 The average silhouette_score is : 0.44666936016609643\n",
      "For n_clusters = 7 The average silhouette_score is : 0.39410072475409114\n",
      "For n_clusters = 8 The average silhouette_score is : 0.38911679534376437\n",
      "For n_clusters = 9 The average silhouette_score is : 0.386305674181591\n",
      "For n_clusters = 10 The average silhouette_score is : 0.38417972334579154\n"
     ]
    }
   ],
   "source": [
    "clusters(Xwine)"
   ]
  },
  {
   "cell_type": "code",
   "execution_count": 126,
   "metadata": {},
   "outputs": [
    {
     "data": {
      "image/png": "[encoded data removed]",
      "text/plain": [
       "<Figure size 432x288 with 1 Axes>"
      ]
     },
     "metadata": {
      "needs_background": "light"
     },
     "output_type": "display_data"
    },
    {
     "name": "stdout",
     "output_type": "stream",
     "text": [
      "For n_clusters = 2 The average silhouette_score is : 0.7422197992016334\n",
      "For n_clusters = 3 The average silhouette_score is : 0.6391388104743568\n",
      "For n_clusters = 4 The average silhouette_score is : 0.4349782045852993\n",
      "For n_clusters = 5 The average silhouette_score is : 0.47913680584176754\n",
      "For n_clusters = 6 The average silhouette_score is : 0.46913728986821723\n",
      "For n_clusters = 7 The average silhouette_score is : 0.44454211412839506\n",
      "For n_clusters = 8 The average silhouette_score is : 0.4770155037971883\n",
      "For n_clusters = 9 The average silhouette_score is : 0.4838726390387534\n",
      "For n_clusters = 10 The average silhouette_score is : 0.4232886814019637\n"
     ]
    }
   ],
   "source": [
    "clusters(Xforestfires)"
   ]
  },
  {
   "cell_type": "code",
   "execution_count": 127,
   "metadata": {},
   "outputs": [
    {
     "data": {
      "image/png": "[encoded data removed]",
      "text/plain": [
       "<Figure size 432x288 with 1 Axes>"
      ]
     },
     "metadata": {
      "needs_background": "light"
     },
     "output_type": "display_data"
    },
    {
     "name": "stdout",
     "output_type": "stream",
     "text": [
      "For n_clusters = 2 The average silhouette_score is : 0.3850472028380238\n",
      "For n_clusters = 3 The average silhouette_score is : 0.2130058681834083\n",
      "For n_clusters = 4 The average silhouette_score is : 0.21959229247637915\n",
      "For n_clusters = 5 The average silhouette_score is : 0.20146484769659018\n",
      "For n_clusters = 6 The average silhouette_score is : 0.15134832428186404\n",
      "For n_clusters = 7 The average silhouette_score is : 0.14463656628798813\n",
      "For n_clusters = 8 The average silhouette_score is : 0.14065764242340656\n",
      "For n_clusters = 9 The average silhouette_score is : 0.12800057481274524\n",
      "For n_clusters = 10 The average silhouette_score is : 0.10868064339606143\n"
     ]
    }
   ],
   "source": [
    "clusters(Xstudent)"
   ]
  },
  {
   "cell_type": "code",
   "execution_count": 130,
   "metadata": {},
   "outputs": [
    {
     "data": {
      "text/plain": [
       "KMeans(n_clusters=2, random_state=10)"
      ]
     },
     "execution_count": 130,
     "metadata": {},
     "output_type": "execute_result"
    }
   ],
   "source": [
    "# create Kmeans\n",
    "kmeans = KMeans(n_clusters = 2, init=\"k-means++\", random_state=10)\n",
    "kmeans.fit(X_forest_low)"
   ]
  },
  {
   "cell_type": "code",
   "execution_count": 137,
   "metadata": {},
   "outputs": [],
   "source": [
    "def get_sample(X):\n",
    "    kmeans = KMeans(n_clusters = 2, init=\"k-means++\", random_state=10)\n",
    "    kmeans.fit(X)\n",
    "    kmeans.cluster_centers_\n",
    "    data = pd.DataFrame(X)\n",
    "    pred = kmeans.predict(X)\n",
    "    data['cluster']=pred\n",
    "    print(\"Sample size of the cluster\")\n",
    "    print(data.cluster.value_counts())\n",
    "\n",
    "    "
   ]
  },
  {
   "cell_type": "code",
   "execution_count": 141,
   "metadata": {},
   "outputs": [
    {
     "name": "stdout",
     "output_type": "stream",
     "text": [
      "X_forest_low\n",
      "Sample size of the cluster\n",
      "0    322\n",
      "1    102\n",
      "Name: cluster, dtype: int64\n",
      "X_forest_medium\n",
      "Sample size of the cluster\n",
      "0    284\n",
      "1     88\n",
      "Name: cluster, dtype: int64\n",
      "X_forest_high\n",
      "Sample size of the cluster\n",
      "0    231\n",
      "1     64\n",
      "Name: cluster, dtype: int64\n"
     ]
    }
   ],
   "source": [
    "print(\"X_forest_low\")\n",
    "get_sample(X_forest_low)\n",
    "print(\"X_forest_medium\")\n",
    "get_sample(X_forest_medium)\n",
    "print(\"X_forest_high\")\n",
    "get_sample(X_forest_high)\n",
    "\n"
   ]
  },
  {
   "cell_type": "code",
   "execution_count": 142,
   "metadata": {},
   "outputs": [
    {
     "name": "stdout",
     "output_type": "stream",
     "text": [
      "X_student_low\n",
      "Sample size of the cluster\n",
      "0    759\n",
      "1    116\n",
      "Name: cluster, dtype: int64\n",
      "X_student_medium\n",
      "Sample size of the cluster\n",
      "1    618\n",
      "0    153\n",
      "Name: cluster, dtype: int64\n",
      "X_student_high\n",
      "Sample size of the cluster\n",
      "0    505\n",
      "1    109\n",
      "Name: cluster, dtype: int64\n"
     ]
    }
   ],
   "source": [
    "print(\"X_student_low\")\n",
    "get_sample(X_student_low)\n",
    "print(\"X_student_medium\")\n",
    "get_sample(X_student_medium)\n",
    "print(\"X_student_high\")\n",
    "get_sample(X_student_high)"
   ]
  },
  {
   "cell_type": "code",
   "execution_count": 143,
   "metadata": {},
   "outputs": [
    {
     "name": "stdout",
     "output_type": "stream",
     "text": [
      "X_wine_low\n",
      "Sample size of the cluster\n",
      "0    1053\n",
      "1     362\n",
      "Name: cluster, dtype: int64\n",
      "X_wine_medium\n",
      "Sample size of the cluster\n",
      "1    953\n",
      "0    302\n",
      "Name: cluster, dtype: int64\n",
      "X_wine_high\n",
      "Sample size of the cluster\n",
      "1    764\n",
      "0    251\n",
      "Name: cluster, dtype: int64\n"
     ]
    }
   ],
   "source": [
    "# Wine\n",
    "print(\"X_wine_low\")\n",
    "get_sample(X_wine_low)\n",
    "print(\"X_wine_medium\")\n",
    "get_sample(X_wine_medium)\n",
    "print(\"X_wine_high\")\n",
    "get_sample(X_wine_high)"
   ]
  },
  {
   "cell_type": "code",
   "execution_count": 177,
   "metadata": {},
   "outputs": [],
   "source": [
    "# create random forest on the clusters\n",
    "def get_sample(X):\n",
    "    kmeans = KMeans(n_clusters = 2, init=\"k-means++\", random_state=10)\n",
    "    kmeans.fit(X)\n",
    "    kmeans.cluster_centers_\n",
    "    data = pd.DataFrame(X)\n",
    "    pred = kmeans.predict(X)\n",
    "    return pred\n",
    "def Accuracy(X,y):\n",
    "    model=RandomForestClassifier()\n",
    "    n_scores = cross_val_score(model, X, y, scoring='accuracy', n_jobs=-1, error_score='raise')\n",
    "    print('Accuracy: %.3f (%.3f)' % (mean(n_scores), std(n_scores)))\n",
    "def Accuracy1(X,y):\n",
    "    model=RandomForestClassifier()\n",
    "    cv = RepeatedStratifiedKFold(n_splits=10, n_repeats=3, random_state=1)\n",
    "    n_scores = cross_val_score(model, X, y, scoring='accuracy', cv=cv, n_jobs=-1, error_score='raise')\n",
    "    print('Accuracy: %.3f (%.3f)' % (mean(n_scores), std(n_scores)))\n",
    "    \n",
    "    "
   ]
  },
  {
   "cell_type": "code",
   "execution_count": 174,
   "metadata": {},
   "outputs": [
    {
     "name": "stdout",
     "output_type": "stream",
     "text": [
      "Accuracy: 1.000 (0.000)\n",
      "Accuracy: 1.000 (0.000)\n",
      "Accuracy: 0.997 (0.007)\n"
     ]
    }
   ],
   "source": [
    "y=get_sample(X_forest_low)\n",
    "Accuracy(X_forest_low,y)\n",
    "y=get_sample(X_forest_medium)\n",
    "Accuracy(X_forest_medium,y)\n",
    "y=get_sample(X_forest_high)\n",
    "Accuracy(X_forest_high,y)"
   ]
  },
  {
   "cell_type": "code",
   "execution_count": 175,
   "metadata": {},
   "outputs": [
    {
     "name": "stdout",
     "output_type": "stream",
     "text": [
      "Accuracy: 1.000 (0.000)\n",
      "Accuracy: 1.000 (0.000)\n",
      "Accuracy: 1.000 (0.000)\n"
     ]
    }
   ],
   "source": [
    "y=get_sample(X_wine_low)\n",
    "Accuracy(X_wine_low,y)\n",
    "y=get_sample(X_wine_medium)\n",
    "Accuracy(X_wine_medium,y)\n",
    "y=get_sample(X_wine_high)\n",
    "Accuracy(X_wine_high,y)"
   ]
  },
  {
   "cell_type": "code",
   "execution_count": 176,
   "metadata": {},
   "outputs": [
    {
     "name": "stdout",
     "output_type": "stream",
     "text": [
      "Accuracy: 1.000 (0.000)\n",
      "Accuracy: 0.997 (0.005)\n",
      "Accuracy: 1.000 (0.000)\n"
     ]
    }
   ],
   "source": [
    "y=get_sample(X_student_low)\n",
    "Accuracy(X_student_low,y)\n",
    "y=get_sample(X_student_medium)\n",
    "Accuracy(X_student_medium,y)\n",
    "y=get_sample(X_student_high)\n",
    "Accuracy(X_student_high,y)"
   ]
  },
  {
   "cell_type": "markdown",
   "metadata": {},
   "source": [
    "# TASK 5"
   ]
  },
  {
   "cell_type": "code",
   "execution_count": 178,
   "metadata": {},
   "outputs": [
    {
     "name": "stdout",
     "output_type": "stream",
     "text": [
      "Accuracy: 1.000 (0.000)\n",
      "Accuracy: 1.000 (0.000)\n",
      "Accuracy: 0.998 (0.008)\n"
     ]
    }
   ],
   "source": [
    "y=get_sample(X_forest_low)\n",
    "Accuracy1(X_forest_low,y)\n",
    "y=get_sample(X_forest_medium)\n",
    "Accuracy1(X_forest_medium,y)\n",
    "y=get_sample(X_forest_high)\n",
    "Accuracy1(X_forest_high,y)"
   ]
  },
  {
   "cell_type": "code",
   "execution_count": 179,
   "metadata": {},
   "outputs": [
    {
     "name": "stdout",
     "output_type": "stream",
     "text": [
      "Accuracy: 1.000 (0.000)\n",
      "Accuracy: 1.000 (0.000)\n",
      "Accuracy: 1.000 (0.000)\n"
     ]
    }
   ],
   "source": [
    "y=get_sample(X_wine_low)\n",
    "Accuracy1(X_wine_low,y)\n",
    "y=get_sample(X_wine_medium)\n",
    "Accuracy1(X_wine_medium,y)\n",
    "y=get_sample(X_wine_high)\n",
    "Accuracy1(X_wine_high,y)"
   ]
  },
  {
   "cell_type": "code",
   "execution_count": 180,
   "metadata": {},
   "outputs": [
    {
     "name": "stdout",
     "output_type": "stream",
     "text": [
      "Accuracy: 1.000 (0.000)\n",
      "Accuracy: 0.999 (0.003)\n",
      "Accuracy: 0.999 (0.003)\n"
     ]
    }
   ],
   "source": [
    "y=get_sample(X_student_low)\n",
    "Accuracy1(X_student_low,y)\n",
    "y=get_sample(X_student_medium)\n",
    "Accuracy1(X_student_medium,y)\n",
    "y=get_sample(X_student_high)\n",
    "Accuracy1(X_student_high,y)"
   ]
  },
  {
   "cell_type": "markdown",
   "metadata": {},
   "source": [
    "# TASK 6"
   ]
  },
  {
   "cell_type": "code",
   "execution_count": 11,
   "metadata": {},
   "outputs": [
    {
     "data": {
      "text/html": [
       "<div>\n",
       "<style scoped>\n",
       "    .dataframe tbody tr th:only-of-type {\n",
       "        vertical-align: middle;\n",
       "    }\n",
       "\n",
       "    .dataframe tbody tr th {\n",
       "        vertical-align: top;\n",
       "    }\n",
       "\n",
       "    .dataframe thead th {\n",
       "        text-align: right;\n",
       "    }\n",
       "</style>\n",
       "<table border=\"1\" class=\"dataframe\">\n",
       "  <thead>\n",
       "    <tr style=\"text-align: right;\">\n",
       "      <th></th>\n",
       "      <th>Metric1</th>\n",
       "      <th>Metric2</th>\n",
       "    </tr>\n",
       "  </thead>\n",
       "  <tbody>\n",
       "    <tr>\n",
       "      <th>0</th>\n",
       "      <td>0.474</td>\n",
       "      <td>1.000</td>\n",
       "    </tr>\n",
       "    <tr>\n",
       "      <th>1</th>\n",
       "      <td>0.527</td>\n",
       "      <td>1.000</td>\n",
       "    </tr>\n",
       "    <tr>\n",
       "      <th>2</th>\n",
       "      <td>0.780</td>\n",
       "      <td>0.998</td>\n",
       "    </tr>\n",
       "    <tr>\n",
       "      <th>3</th>\n",
       "      <td>0.748</td>\n",
       "      <td>1.000</td>\n",
       "    </tr>\n",
       "    <tr>\n",
       "      <th>4</th>\n",
       "      <td>0.765</td>\n",
       "      <td>1.000</td>\n",
       "    </tr>\n",
       "    <tr>\n",
       "      <th>5</th>\n",
       "      <td>0.858</td>\n",
       "      <td>1.000</td>\n",
       "    </tr>\n",
       "    <tr>\n",
       "      <th>6</th>\n",
       "      <td>0.923</td>\n",
       "      <td>1.000</td>\n",
       "    </tr>\n",
       "    <tr>\n",
       "      <th>7</th>\n",
       "      <td>0.917</td>\n",
       "      <td>0.900</td>\n",
       "    </tr>\n",
       "    <tr>\n",
       "      <th>8</th>\n",
       "      <td>0.959</td>\n",
       "      <td>0.900</td>\n",
       "    </tr>\n",
       "  </tbody>\n",
       "</table>\n",
       "</div>"
      ],
      "text/plain": [
       "   Metric1  Metric2\n",
       "0    0.474    1.000\n",
       "1    0.527    1.000\n",
       "2    0.780    0.998\n",
       "3    0.748    1.000\n",
       "4    0.765    1.000\n",
       "5    0.858    1.000\n",
       "6    0.923    1.000\n",
       "7    0.917    0.900\n",
       "8    0.959    0.900"
      ]
     },
     "execution_count": 11,
     "metadata": {},
     "output_type": "execute_result"
    }
   ],
   "source": [
    "data = {\n",
    "        'Metric1': [0.474, 0.527, 0.78, 0.748,0.765,0.858,0.923,0.917,0.959],\n",
    "        'Metric2': [1, 1, 0.998, 1,1,1,1,0.9,0.9]}  \n",
    "Class=['Forest low', 'Forest medium', 'Forest high', 'Wine low','Wine medium','Wine high','Student low', 'student medium', 'student high']\n",
    "df = pd.DataFrame(data)  \n",
    "df"
   ]
  },
  {
   "cell_type": "code",
   "execution_count": 22,
   "metadata": {},
   "outputs": [
    {
     "data": {
      "image/png": "[encoded data removed]",
      "text/plain": [
       "<Figure size 432x288 with 1 Axes>"
      ]
     },
     "metadata": {
      "needs_background": "light"
     },
     "output_type": "display_data"
    }
   ],
   "source": [
    "\n",
    "from matplotlib.pyplot import figure\n",
    "\n",
    "\n",
    "\n",
    "ax = df.plot(stacked=True, kind='bar')\n",
    "for bar in ax.patches:\n",
    "    height = bar.get_height()\n",
    "    width = bar.get_width()\n",
    "    x = bar.get_x()\n",
    "    y = bar.get_y()\n",
    "    label_text = height\n",
    "    label_x = x + width / 2\n",
    "    label_y = y + height / 2\n",
    "    ax.text(label_x, label_y, label_text, ha='center',    \n",
    "            va='center')\n",
    "    \n",
    "# Set Tick labels\n",
    "\n",
    "\n",
    "ax.set_xticklabels(Class,rotation='vertical')\n",
    "\n",
    "# Display chart\n",
    "\n",
    "plt.show()"
   ]
  },
  {
   "cell_type": "markdown",
   "metadata": {},
   "source": [
    "# Conclusions"
   ]
  },
  {
   "cell_type": "markdown",
   "metadata": {},
   "source": [
    "We can notice from the graph that the low imbalance produced the lowest accuracy compared to medium imbalance and high imbalance. The reason why the high imbalance has the highest accuracy is that one has a very high accurate prediction compared to the other. From the formula of calculating the accuracy score, both classes play a major role in determining the accuracy of the model. If one class has a very high accurate prediction, it covers up for the other class. We can also notice from the modeled created using clusters that the accuracy of the model increases when the clusters are used. Clustering techniques use the concept of homogeneity of the data points. You will find that the data point for specific classes is closer to one another compared to the other class.  This is why Kmeans clustering is also a good technique for data modeling. A combination of Kmeans and random forest produced a highly accurate prediction"
   ]
  },
  {
   "cell_type": "markdown",
   "metadata": {},
   "source": [
    "# Reference\n"
   ]
  },
  {
   "cell_type": "markdown",
   "metadata": {},
   "source": [
    "El Naqa, I., & Murphy, M. J. (2015). What is machine learning?. In machine learning in radiation oncology (pp. 3-11). Springer, Cham.\n",
    "\n",
    "Jordan, M. I., & Mitchell, T. M. (2015). Machine learning: Trends, perspectives, and prospects. Science, 349(6245), 255-260.\n",
    "\n",
    "Kaur, H., Pannu, H. S., & Malhi, A. K. (2019). A systematic review on imbalanced data challenges in machine learning: Applications and solutions. ACM Computing Surveys (CSUR), 52(4), 1-36.\n",
    "\n",
    "Krawczyk, B. (2016). Learning from imbalanced data: open challenges and future directions. Progress in Artificial Intelligence, 5(4), 221-232.\n",
    "\n",
    "Gu, Q., Cai, Z., Zhu, L., & Huang, B. (2008, December). Data mining on imbalanced data sets. In 2008 International Conference on advanced computer theory and engineering (pp. 1020-1024). IEEE.\n",
    "\n",
    "Sun, Y., Wong, A. K., & Kamel, M. S. (2009). Classification of imbalanced data: A review. International journal of pattern recognition and artificial intelligence, 23(04), 687-719.\n",
    "\n",
    "Tyagi, S., & Mittal, S. (2020). Sampling approaches for imbalanced data classification problem in machine learning. In Proceedings of ICRIC 2019 (pp. 209-221). Springer, Cham.\n",
    "\n",
    "Wang, H., Lei, Z., Zhang, X., Zhou, B., & Peng, J. (2016). Machine learning basics. Deep learning, 98-164.\n"
   ]
  },
  {
   "cell_type": "code",
   "execution_count": null,
   "metadata": {},
   "outputs": [],
   "source": []
  }
 ],
 "metadata": {
  "kernelspec": {
   "display_name": "Python 3",
   "language": "python",
   "name": "python3"
  },
  "language_info": {
   "codemirror_mode": {
    "name": "ipython",
    "version": 3
   },
   "file_extension": ".py",
   "mimetype": "text/x-python",
   "name": "python",
   "nbconvert_exporter": "python",
   "pygments_lexer": "ipython3",
   "version": "3.8.5"
  }
 },
 "nbformat": 4,
 "nbformat_minor": 4
}
